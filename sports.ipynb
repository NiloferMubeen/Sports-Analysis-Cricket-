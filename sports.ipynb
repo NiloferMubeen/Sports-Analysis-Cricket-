{
 "cells": [
  {
   "cell_type": "markdown",
   "metadata": {},
   "source": [
    "# Data Preprocessing"
   ]
  },
  {
   "cell_type": "code",
   "execution_count": 1,
   "metadata": {},
   "outputs": [],
   "source": [
    "# Importing the necessary librarires\n",
    "\n",
    "import glob\n",
    "import pandas as pd"
   ]
  },
  {
   "cell_type": "code",
   "execution_count": 2,
   "metadata": {},
   "outputs": [],
   "source": [
    "# Combining all the excel files of different countries and adding it to excel_list\n",
    "\n",
    "path = r\"F:\\Learnings\\DataScientist\\GUVI-1\\guvi_Projects\\Career_fair\\Sports\" \n",
    "file_list = glob.glob(path + r\"/*.xlsx\")\n",
    "excl_list = []\n",
    "for file in file_list:\n",
    "    excl_list.append(pd.read_excel(file))"
   ]
  },
  {
   "cell_type": "code",
   "execution_count": 3,
   "metadata": {},
   "outputs": [],
   "source": [
    "#concatenating all the excel files to a single data frame\n",
    "\n",
    "df = pd.concat(excl_list, ignore_index=True)"
   ]
  },
  {
   "cell_type": "code",
   "execution_count": 4,
   "metadata": {},
   "outputs": [
    {
     "data": {
      "text/html": [
       "<div>\n",
       "<style scoped>\n",
       "    .dataframe tbody tr th:only-of-type {\n",
       "        vertical-align: middle;\n",
       "    }\n",
       "\n",
       "    .dataframe tbody tr th {\n",
       "        vertical-align: top;\n",
       "    }\n",
       "\n",
       "    .dataframe thead th {\n",
       "        text-align: right;\n",
       "    }\n",
       "</style>\n",
       "<table border=\"1\" class=\"dataframe\">\n",
       "  <thead>\n",
       "    <tr style=\"text-align: right;\">\n",
       "      <th></th>\n",
       "      <th>PlayerName</th>\n",
       "      <th>PersonDetail</th>\n",
       "      <th>Links</th>\n",
       "      <th>Stats</th>\n",
       "      <th>Country</th>\n",
       "      <th>TopStats</th>\n",
       "    </tr>\n",
       "  </thead>\n",
       "  <tbody>\n",
       "    <tr>\n",
       "      <th>0</th>\n",
       "      <td>Abdul Hadi</td>\n",
       "      <td>{'Full Name': 'Abdul Hadi', 'Born': 'March 22,...</td>\n",
       "      <td>https://www.espncricinfo.com/cricketers/abdul-...</td>\n",
       "      <td>-</td>\n",
       "      <td>Afghanistan</td>\n",
       "      <td>NaN</td>\n",
       "    </tr>\n",
       "    <tr>\n",
       "      <th>1</th>\n",
       "      <td>Abdul Malik</td>\n",
       "      <td>{'Full Name': 'Abdul Malik', 'Born': 'March 11...</td>\n",
       "      <td>https://www.espncricinfo.com/cricketers/abdul-...</td>\n",
       "      <td>-</td>\n",
       "      <td>Afghanistan</td>\n",
       "      <td>NaN</td>\n",
       "    </tr>\n",
       "    <tr>\n",
       "      <th>2</th>\n",
       "      <td>Abdul Rashid Khan Naseri</td>\n",
       "      <td>{'Full Name': 'Abdul Rashid Khan Naseri', 'Bor...</td>\n",
       "      <td>https://www.espncricinfo.com/cricketers/abdul-...</td>\n",
       "      <td>-</td>\n",
       "      <td>Afghanistan</td>\n",
       "      <td>NaN</td>\n",
       "    </tr>\n",
       "    <tr>\n",
       "      <th>3</th>\n",
       "      <td>Abdul Rahman Rahmani</td>\n",
       "      <td>{'Full Name': 'Abdul Rahman Rahmani', 'Born': ...</td>\n",
       "      <td>https://www.espncricinfo.com/cricketers/abdul-...</td>\n",
       "      <td>-</td>\n",
       "      <td>Afghanistan</td>\n",
       "      <td>NaN</td>\n",
       "    </tr>\n",
       "    <tr>\n",
       "      <th>4</th>\n",
       "      <td>Abdul Wasi Noori</td>\n",
       "      <td>{'Full Name': 'Abdul Wasi Noori', 'Born': 'Jul...</td>\n",
       "      <td>https://www.espncricinfo.com/cricketers/abdul-...</td>\n",
       "      <td>-</td>\n",
       "      <td>Afghanistan</td>\n",
       "      <td>NaN</td>\n",
       "    </tr>\n",
       "  </tbody>\n",
       "</table>\n",
       "</div>"
      ],
      "text/plain": [
       "                 PlayerName  \\\n",
       "0                Abdul Hadi   \n",
       "1               Abdul Malik   \n",
       "2  Abdul Rashid Khan Naseri   \n",
       "3      Abdul Rahman Rahmani   \n",
       "4          Abdul Wasi Noori   \n",
       "\n",
       "                                        PersonDetail  \\\n",
       "0  {'Full Name': 'Abdul Hadi', 'Born': 'March 22,...   \n",
       "1  {'Full Name': 'Abdul Malik', 'Born': 'March 11...   \n",
       "2  {'Full Name': 'Abdul Rashid Khan Naseri', 'Bor...   \n",
       "3  {'Full Name': 'Abdul Rahman Rahmani', 'Born': ...   \n",
       "4  {'Full Name': 'Abdul Wasi Noori', 'Born': 'Jul...   \n",
       "\n",
       "                                               Links Stats      Country  \\\n",
       "0  https://www.espncricinfo.com/cricketers/abdul-...     -  Afghanistan   \n",
       "1  https://www.espncricinfo.com/cricketers/abdul-...     -  Afghanistan   \n",
       "2  https://www.espncricinfo.com/cricketers/abdul-...     -  Afghanistan   \n",
       "3  https://www.espncricinfo.com/cricketers/abdul-...     -  Afghanistan   \n",
       "4  https://www.espncricinfo.com/cricketers/abdul-...     -  Afghanistan   \n",
       "\n",
       "  TopStats  \n",
       "0      NaN  \n",
       "1      NaN  \n",
       "2      NaN  \n",
       "3      NaN  \n",
       "4      NaN  "
      ]
     },
     "execution_count": 4,
     "metadata": {},
     "output_type": "execute_result"
    }
   ],
   "source": [
    "df.head()"
   ]
  },
  {
   "cell_type": "markdown",
   "metadata": {},
   "source": [
    "## Extracting info from Personal Details column"
   ]
  },
  {
   "cell_type": "code",
   "execution_count": 5,
   "metadata": {},
   "outputs": [],
   "source": [
    "# Creating a separate dataframe with Personal details column\n",
    "\n",
    "df1 = df['PersonDetail']\n",
    "import ast\n",
    "dict_list = []\n",
    "for i in df1:\n",
    "    res = ast.literal_eval(i)\n",
    "    dict_list.append(res)"
   ]
  },
  {
   "cell_type": "markdown",
   "metadata": {},
   "source": [
    "##### Creating a DataFrame of Personal details of players"
   ]
  },
  {
   "cell_type": "code",
   "execution_count": 6,
   "metadata": {},
   "outputs": [
    {
     "data": {
      "text/html": [
       "<div>\n",
       "<style scoped>\n",
       "    .dataframe tbody tr th:only-of-type {\n",
       "        vertical-align: middle;\n",
       "    }\n",
       "\n",
       "    .dataframe tbody tr th {\n",
       "        vertical-align: top;\n",
       "    }\n",
       "\n",
       "    .dataframe thead th {\n",
       "        text-align: right;\n",
       "    }\n",
       "</style>\n",
       "<table border=\"1\" class=\"dataframe\">\n",
       "  <thead>\n",
       "    <tr style=\"text-align: right;\">\n",
       "      <th></th>\n",
       "      <th>Name</th>\n",
       "      <th>Born</th>\n",
       "      <th>Age</th>\n",
       "      <th>Batting Style</th>\n",
       "      <th>Bowling Style</th>\n",
       "      <th>Playing Role</th>\n",
       "      <th>Teams_playing</th>\n",
       "      <th>Country</th>\n",
       "    </tr>\n",
       "  </thead>\n",
       "  <tbody>\n",
       "    <tr>\n",
       "      <th>0</th>\n",
       "      <td>Abdul Hadi</td>\n",
       "      <td>March 22, 2005, Kunduz</td>\n",
       "      <td>18y 313d</td>\n",
       "      <td>Left hand Bat</td>\n",
       "      <td>None</td>\n",
       "      <td>None</td>\n",
       "      <td>2</td>\n",
       "      <td>Afghanistan</td>\n",
       "    </tr>\n",
       "    <tr>\n",
       "      <th>1</th>\n",
       "      <td>Abdul Malik</td>\n",
       "      <td>March 11, 1998, Baghlan</td>\n",
       "      <td>25y 324d</td>\n",
       "      <td>Right hand Bat</td>\n",
       "      <td>Right arm Offbreak</td>\n",
       "      <td>Opening Batter</td>\n",
       "      <td>2</td>\n",
       "      <td>Afghanistan</td>\n",
       "    </tr>\n",
       "    <tr>\n",
       "      <th>2</th>\n",
       "      <td>Abdul Rashid Khan Naseri</td>\n",
       "      <td>September 09, 1994, Laghman</td>\n",
       "      <td>29y 142d</td>\n",
       "      <td>Left hand Bat</td>\n",
       "      <td>Slow Left arm Orthodox</td>\n",
       "      <td>None</td>\n",
       "      <td>1</td>\n",
       "      <td>Afghanistan</td>\n",
       "    </tr>\n",
       "    <tr>\n",
       "      <th>3</th>\n",
       "      <td>Abdul Rahman Rahmani</td>\n",
       "      <td>November 22, 2001</td>\n",
       "      <td>22y 68d</td>\n",
       "      <td>Right hand Bat</td>\n",
       "      <td>Right arm Fast medium</td>\n",
       "      <td>Bowler</td>\n",
       "      <td>4</td>\n",
       "      <td>Afghanistan</td>\n",
       "    </tr>\n",
       "    <tr>\n",
       "      <th>4</th>\n",
       "      <td>Abdul Wasi Noori</td>\n",
       "      <td>July 06, 2002, Baghlan</td>\n",
       "      <td>21y 207d</td>\n",
       "      <td>Right hand Bat</td>\n",
       "      <td>Legbreak</td>\n",
       "      <td>Allrounder</td>\n",
       "      <td>6</td>\n",
       "      <td>Afghanistan</td>\n",
       "    </tr>\n",
       "  </tbody>\n",
       "</table>\n",
       "</div>"
      ],
      "text/plain": [
       "                       Name                         Born       Age  \\\n",
       "0                Abdul Hadi       March 22, 2005, Kunduz  18y 313d   \n",
       "1               Abdul Malik      March 11, 1998, Baghlan  25y 324d   \n",
       "2  Abdul Rashid Khan Naseri  September 09, 1994, Laghman  29y 142d   \n",
       "3      Abdul Rahman Rahmani            November 22, 2001   22y 68d   \n",
       "4          Abdul Wasi Noori       July 06, 2002, Baghlan  21y 207d   \n",
       "\n",
       "    Batting Style           Bowling Style    Playing Role  Teams_playing  \\\n",
       "0   Left hand Bat                    None            None              2   \n",
       "1  Right hand Bat      Right arm Offbreak  Opening Batter              2   \n",
       "2   Left hand Bat  Slow Left arm Orthodox            None              1   \n",
       "3  Right hand Bat   Right arm Fast medium          Bowler              4   \n",
       "4  Right hand Bat                Legbreak      Allrounder              6   \n",
       "\n",
       "       Country  \n",
       "0  Afghanistan  \n",
       "1  Afghanistan  \n",
       "2  Afghanistan  \n",
       "3  Afghanistan  \n",
       "4  Afghanistan  "
      ]
     },
     "execution_count": 6,
     "metadata": {},
     "output_type": "execute_result"
    }
   ],
   "source": [
    "columns = {'Name':[],'Born':[],'Age':[],'Batting Style':[],'Bowling Style':[],'Playing Role':[],'Teams_playing':[]}\n",
    "\n",
    "for dic in dict_list:\n",
    "    columns['Name'].append(dic['Full Name'])\n",
    "    columns['Born'].append(dic['Born'])\n",
    "    columns['Age'].append(dic['Age'])\n",
    "    columns['Batting Style'].append(dic.get('Batting Style'))\n",
    "    columns['Bowling Style'].append(dic.get('Bowling Style'))\n",
    "    columns['Playing Role'].append(dic.get('Playing Role'))\n",
    "    columns['Teams_playing'].append(len(dic['Teams'][0]))\n",
    "    \n",
    "person_details = pd.DataFrame(columns)\n",
    "person_details['Country'] = df['Country']\n",
    "person_details.head()"
   ]
  },
  {
   "cell_type": "markdown",
   "metadata": {},
   "source": [
    "## Extracting info from Stats column"
   ]
  },
  {
   "cell_type": "code",
   "execution_count": 7,
   "metadata": {},
   "outputs": [],
   "source": [
    "# replacing all the '-' in stats column with '{}'\n",
    "df['Stats'] = df['Stats'].replace('-','{}')"
   ]
  },
  {
   "cell_type": "code",
   "execution_count": 8,
   "metadata": {},
   "outputs": [],
   "source": [
    "# Creating a new dataframe with stats column\n",
    "\n",
    "df2 = df['Stats']\n",
    "dict_list1 = []\n",
    "for i in df2:\n",
    "    try:\n",
    "        res = ast.literal_eval(i)\n",
    "        dict_list1.append(res)\n",
    "    except:\n",
    "        pass"
   ]
  },
  {
   "cell_type": "markdown",
   "metadata": {},
   "source": [
    "##### Creating a stats dataframe"
   ]
  },
  {
   "cell_type": "markdown",
   "metadata": {},
   "source": [
    "#### 1. For Career Averages"
   ]
  },
  {
   "cell_type": "code",
   "execution_count": 9,
   "metadata": {},
   "outputs": [],
   "source": [
    "# Creating a Career averages dataframe from stats column\n",
    "col = []\n",
    "\n",
    "for i in dict_list1:\n",
    "    col.append(i.get('Career Averages'))"
   ]
  },
  {
   "cell_type": "code",
   "execution_count": 10,
   "metadata": {},
   "outputs": [],
   "source": [
    "columns ={'Mat': [],'Span':[],'Runs': [],'HS': [],'Bat Avg': [],'100s': [],'Wkts': [],'BBI': [],'Bowl Avg': [],'5w': [],'Catches': [],'Stumping': [],'Avg Diff': []}\n",
    "for i in col:\n",
    "    if i != None:\n",
    "        columns['Mat'].append(i['Mat'][0])\n",
    "        columns['Span'].append(i.get(['Span'][0]))\n",
    "        columns['Runs'].append(i.get(['Runs'][0]))\n",
    "        columns['HS'].append(i.get(['HS'][0]))\n",
    "        columns['Bat Avg'].append(i.get(['Bat Avg'][0]))\n",
    "        columns['100s'].append(i.get(['100s'][0]))\n",
    "        columns['Wkts'].append(i.get(['Wkts'][0]))\n",
    "        columns['BBI'].append(i.get(['BBI'][0]))\n",
    "        columns['Bowl Avg'].append(i.get(['Bowl Avg'][0]))\n",
    "        columns['5w'].append(i.get(['5w'][0]))\n",
    "        columns['Catches'].append(i.get(['Ct'][0]))\n",
    "        columns['Stumping'].append(i.get(['St'][0]))\n",
    "        columns['Avg Diff'].append(i.get(['Avg Diff'][0]))\n",
    "    else:\n",
    "        columns['Mat'].append(None)\n",
    "        columns['Span'].append(None)\n",
    "        columns['Runs'].append(None)\n",
    "        columns['HS'].append(None)\n",
    "        columns['Bat Avg'].append(None)\n",
    "        columns['100s'].append(None)\n",
    "        columns['Wkts'].append(None)\n",
    "        columns['BBI'].append(None)\n",
    "        columns['Bowl Avg'].append(None)\n",
    "        columns['5w'].append(None)\n",
    "        columns['Catches'].append(None)\n",
    "        columns['Stumping'].append(None)\n",
    "        columns['Avg Diff'].append(None)\n",
    "        \n",
    "career_avg = pd.DataFrame(columns)"
   ]
  },
  {
   "cell_type": "code",
   "execution_count": 11,
   "metadata": {},
   "outputs": [
    {
     "data": {
      "text/html": [
       "<div>\n",
       "<style scoped>\n",
       "    .dataframe tbody tr th:only-of-type {\n",
       "        vertical-align: middle;\n",
       "    }\n",
       "\n",
       "    .dataframe tbody tr th {\n",
       "        vertical-align: top;\n",
       "    }\n",
       "\n",
       "    .dataframe thead th {\n",
       "        text-align: right;\n",
       "    }\n",
       "</style>\n",
       "<table border=\"1\" class=\"dataframe\">\n",
       "  <thead>\n",
       "    <tr style=\"text-align: right;\">\n",
       "      <th></th>\n",
       "      <th>Mat</th>\n",
       "      <th>Span</th>\n",
       "      <th>Runs</th>\n",
       "      <th>HS</th>\n",
       "      <th>Bat Avg</th>\n",
       "      <th>100s</th>\n",
       "      <th>Wkts</th>\n",
       "      <th>BBI</th>\n",
       "      <th>Bowl Avg</th>\n",
       "      <th>5w</th>\n",
       "      <th>Catches</th>\n",
       "      <th>Stumping</th>\n",
       "      <th>Avg Diff</th>\n",
       "    </tr>\n",
       "  </thead>\n",
       "  <tbody>\n",
       "    <tr>\n",
       "      <th>3342</th>\n",
       "      <td>2.0</td>\n",
       "      <td>{0: '2009-2009'}</td>\n",
       "      <td>{0: 70}</td>\n",
       "      <td>{0: 36}</td>\n",
       "      <td>{0: 35.0}</td>\n",
       "      <td>{0: 0}</td>\n",
       "      <td>{0: 2}</td>\n",
       "      <td>{0: '2/42'}</td>\n",
       "      <td>{0: 25.0}</td>\n",
       "      <td>{0: 0}</td>\n",
       "      <td>{0: 1}</td>\n",
       "      <td>{0: 0}</td>\n",
       "      <td>{0: 10}</td>\n",
       "    </tr>\n",
       "    <tr>\n",
       "      <th>3343</th>\n",
       "      <td>7.0</td>\n",
       "      <td>{0: '2008-2018'}</td>\n",
       "      <td>{0: 48}</td>\n",
       "      <td>{0: 24}</td>\n",
       "      <td>{0: 6.85}</td>\n",
       "      <td>{0: 0}</td>\n",
       "      <td>{0: 1}</td>\n",
       "      <td>{0: '1/1'}</td>\n",
       "      <td>{0: 1.0}</td>\n",
       "      <td>{0: 0}</td>\n",
       "      <td>{0: 2}</td>\n",
       "      <td>{0: 0}</td>\n",
       "      <td>{0: 5.85}</td>\n",
       "    </tr>\n",
       "    <tr>\n",
       "      <th>3344</th>\n",
       "      <td>1.0</td>\n",
       "      <td>{0: '2011-2011'}</td>\n",
       "      <td>{0: 0}</td>\n",
       "      <td>{0: 0}</td>\n",
       "      <td>{0: 0.0}</td>\n",
       "      <td>{0: 0}</td>\n",
       "      <td>{0: 0}</td>\n",
       "      <td>{0: '-'}</td>\n",
       "      <td>None</td>\n",
       "      <td>{0: 0}</td>\n",
       "      <td>{0: 1}</td>\n",
       "      <td>{0: 0}</td>\n",
       "      <td>None</td>\n",
       "    </tr>\n",
       "    <tr>\n",
       "      <th>3345</th>\n",
       "      <td>NaN</td>\n",
       "      <td>None</td>\n",
       "      <td>None</td>\n",
       "      <td>None</td>\n",
       "      <td>None</td>\n",
       "      <td>None</td>\n",
       "      <td>None</td>\n",
       "      <td>None</td>\n",
       "      <td>None</td>\n",
       "      <td>None</td>\n",
       "      <td>None</td>\n",
       "      <td>None</td>\n",
       "      <td>None</td>\n",
       "    </tr>\n",
       "    <tr>\n",
       "      <th>3346</th>\n",
       "      <td>NaN</td>\n",
       "      <td>None</td>\n",
       "      <td>None</td>\n",
       "      <td>None</td>\n",
       "      <td>None</td>\n",
       "      <td>None</td>\n",
       "      <td>None</td>\n",
       "      <td>None</td>\n",
       "      <td>None</td>\n",
       "      <td>None</td>\n",
       "      <td>None</td>\n",
       "      <td>None</td>\n",
       "      <td>None</td>\n",
       "    </tr>\n",
       "  </tbody>\n",
       "</table>\n",
       "</div>"
      ],
      "text/plain": [
       "      Mat              Span     Runs       HS    Bat Avg    100s    Wkts  \\\n",
       "3342  2.0  {0: '2009-2009'}  {0: 70}  {0: 36}  {0: 35.0}  {0: 0}  {0: 2}   \n",
       "3343  7.0  {0: '2008-2018'}  {0: 48}  {0: 24}  {0: 6.85}  {0: 0}  {0: 1}   \n",
       "3344  1.0  {0: '2011-2011'}   {0: 0}   {0: 0}   {0: 0.0}  {0: 0}  {0: 0}   \n",
       "3345  NaN              None     None     None       None    None    None   \n",
       "3346  NaN              None     None     None       None    None    None   \n",
       "\n",
       "              BBI   Bowl Avg      5w Catches Stumping   Avg Diff  \n",
       "3342  {0: '2/42'}  {0: 25.0}  {0: 0}  {0: 1}   {0: 0}    {0: 10}  \n",
       "3343   {0: '1/1'}   {0: 1.0}  {0: 0}  {0: 2}   {0: 0}  {0: 5.85}  \n",
       "3344     {0: '-'}       None  {0: 0}  {0: 1}   {0: 0}       None  \n",
       "3345         None       None    None    None     None       None  \n",
       "3346         None       None    None    None     None       None  "
      ]
     },
     "execution_count": 11,
     "metadata": {},
     "output_type": "execute_result"
    }
   ],
   "source": [
    "career_avg.tail()"
   ]
  },
  {
   "cell_type": "markdown",
   "metadata": {},
   "source": [
    "##### Formatting the career_avg columns"
   ]
  },
  {
   "cell_type": "code",
   "execution_count": 12,
   "metadata": {},
   "outputs": [],
   "source": [
    "# Extracting the values from the data in dictionary format\n",
    "\n",
    "def form(x):\n",
    "    if x == None:\n",
    "        res = None\n",
    "    else:\n",
    "        res = x[0]\n",
    "    return res"
   ]
  },
  {
   "cell_type": "code",
   "execution_count": 13,
   "metadata": {},
   "outputs": [],
   "source": [
    "# Including all the columns except the Mat (matches) column\n",
    "\n",
    "format_col = list(career_avg.columns)\n",
    "format_col.remove('Mat')\n",
    "for col in format_col:\n",
    "    career_avg[col] = career_avg[col].apply(form)"
   ]
  },
  {
   "cell_type": "markdown",
   "metadata": {},
   "source": [
    "#### 2. Match Result"
   ]
  },
  {
   "cell_type": "code",
   "execution_count": 14,
   "metadata": {},
   "outputs": [],
   "source": [
    "# Creating a new dataframe for match result\n",
    "col2 = []\n",
    "\n",
    "for i in dict_list1:\n",
    "    col2.append(i.get('Match Result'))"
   ]
  },
  {
   "cell_type": "code",
   "execution_count": 15,
   "metadata": {},
   "outputs": [],
   "source": [
    "columns = {'Matches_won':[],'Matches_lost':[]}\n",
    "for i in col2:\n",
    "    if i == None:\n",
    "        columns['Matches_won'].append(None)\n",
    "        columns['Matches_lost'].append(None)\n",
    "    \n",
    "    if i!= None and len(i.get('Unnamed: 0'))==1:\n",
    "        if i['Unnamed: 0'][0] == 'won match':\n",
    "            columns['Matches_won'].append(i['Mat'][0])\n",
    "            columns['Matches_lost'].append(None)\n",
    "        elif i['Unnamed: 0'][0] == 'lost match':\n",
    "            columns['Matches_lost'].append(i['Mat'][0])\n",
    "            columns['Matches_won'].append(None)\n",
    "        else:\n",
    "            columns['Matches_lost'].append(None)\n",
    "            columns['Matches_won'].append(None)\n",
    "    if i!=None and len(i.get('Unnamed: 0'))>1 :\n",
    "        if i['Unnamed: 0'][0] == 'won match':\n",
    "            columns['Matches_won'].append(i['Mat'][0])\n",
    "        else:\n",
    "            columns['Matches_won'].append(None)\n",
    "        if i['Unnamed: 0'][0] == 'lost match':\n",
    "             columns['Matches_lost'].append(i['Mat'][0])\n",
    "        elif i['Unnamed: 0'][1] == 'lost match':\n",
    "            columns['Matches_lost'].append(i['Mat'][1])\n",
    "        else:\n",
    "            columns['Matches_lost'].append(None)  \n",
    "won_lost =pd.DataFrame(columns)"
   ]
  },
  {
   "cell_type": "markdown",
   "metadata": {},
   "source": [
    "## Concatenating both Dataframes"
   ]
  },
  {
   "cell_type": "code",
   "execution_count": 16,
   "metadata": {},
   "outputs": [],
   "source": [
    "#Concatenating all the 3 created dataframes\n",
    "\n",
    "data = pd.concat([person_details,career_avg,won_lost],axis=1)"
   ]
  },
  {
   "cell_type": "code",
   "execution_count": 17,
   "metadata": {},
   "outputs": [
    {
     "name": "stdout",
     "output_type": "stream",
     "text": [
      "<class 'pandas.core.frame.DataFrame'>\n",
      "RangeIndex: 3347 entries, 0 to 3346\n",
      "Data columns (total 23 columns):\n",
      " #   Column         Non-Null Count  Dtype  \n",
      "---  ------         --------------  -----  \n",
      " 0   Name           3347 non-null   object \n",
      " 1   Born           3347 non-null   object \n",
      " 2   Age            3347 non-null   object \n",
      " 3   Batting Style  3322 non-null   object \n",
      " 4   Bowling Style  2827 non-null   object \n",
      " 5   Playing Role   1956 non-null   object \n",
      " 6   Teams_playing  3347 non-null   int64  \n",
      " 7   Country        3347 non-null   object \n",
      " 8   Mat            1280 non-null   float64\n",
      " 9   Span           1275 non-null   object \n",
      " 10  Runs           1149 non-null   float64\n",
      " 11  HS             1148 non-null   object \n",
      " 12  Bat Avg        1047 non-null   float64\n",
      " 13  100s           1148 non-null   float64\n",
      " 14  Wkts           898 non-null    float64\n",
      " 15  BBI            898 non-null    object \n",
      " 16  Bowl Avg       767 non-null    float64\n",
      " 17  5w             898 non-null    float64\n",
      " 18  Catches        1273 non-null   float64\n",
      " 19  Stumping       1273 non-null   float64\n",
      " 20  Avg Diff       622 non-null    float64\n",
      " 21  Matches_won    1103 non-null   float64\n",
      " 22  Matches_lost   1146 non-null   float64\n",
      "dtypes: float64(12), int64(1), object(10)\n",
      "memory usage: 601.5+ KB\n"
     ]
    }
   ],
   "source": [
    "data.info()"
   ]
  },
  {
   "cell_type": "markdown",
   "metadata": {},
   "source": [
    "## Calculating % of Null values in each column"
   ]
  },
  {
   "cell_type": "code",
   "execution_count": 18,
   "metadata": {},
   "outputs": [
    {
     "data": {
      "text/plain": [
       "Name              0.000000\n",
       "Born              0.000000\n",
       "Age               0.000000\n",
       "Batting Style     0.746938\n",
       "Bowling Style    15.536301\n",
       "Playing Role     41.559606\n",
       "Teams_playing     0.000000\n",
       "Country           0.000000\n",
       "Mat              61.756797\n",
       "Span             61.906185\n",
       "Runs             65.670750\n",
       "HS               65.700627\n",
       "Bat Avg          68.718255\n",
       "100s             65.700627\n",
       "Wkts             73.170003\n",
       "BBI              73.170003\n",
       "Bowl Avg         77.083956\n",
       "5w               73.170003\n",
       "Catches          61.965940\n",
       "Stumping         61.965940\n",
       "Avg Diff         81.416194\n",
       "Matches_won      67.045115\n",
       "Matches_lost     65.760382\n",
       "dtype: float64"
      ]
     },
     "execution_count": 18,
     "metadata": {},
     "output_type": "execute_result"
    }
   ],
   "source": [
    "(data.isnull().sum()/len(data))*100"
   ]
  },
  {
   "cell_type": "code",
   "execution_count": 19,
   "metadata": {},
   "outputs": [
    {
     "data": {
      "text/plain": [
       "1"
      ]
     },
     "execution_count": 19,
     "metadata": {},
     "output_type": "execute_result"
    }
   ],
   "source": [
    "# checking for duplicates in the data\n",
    "data.duplicated().sum()"
   ]
  },
  {
   "cell_type": "code",
   "execution_count": 20,
   "metadata": {},
   "outputs": [],
   "source": [
    "# Dropping the Nullvalues and duplicates \n",
    "data.drop_duplicates(inplace=True)\n",
    "data.dropna(axis=0,inplace=True)"
   ]
  },
  {
   "cell_type": "markdown",
   "metadata": {},
   "source": [
    "#### 1. Formatting age column"
   ]
  },
  {
   "cell_type": "code",
   "execution_count": 21,
   "metadata": {},
   "outputs": [],
   "source": [
    "# Converting the format from '18y 313d' to '18\n",
    "def format_age(x): \n",
    "    age = int(x.split('y')[0])\n",
    "    return age\n",
    "data['Age'] = data['Age'].apply(format_age)"
   ]
  },
  {
   "cell_type": "markdown",
   "metadata": {},
   "source": [
    "#### 2. Formatting Born column"
   ]
  },
  {
   "cell_type": "code",
   "execution_count": 22,
   "metadata": {},
   "outputs": [],
   "source": [
    "# Converting the format from 'March 22, 2005, Kunduz' to '2005-03-22'\n",
    "\n",
    "from datetime import datetime\n",
    "\n",
    "def format_Born(x):\n",
    "    f = x.replace(',','').split()[0:3]\n",
    "    res = \" \".join(f)\n",
    "    date = datetime.strptime(res, \"%B %d %Y\")\n",
    "    return date\n",
    "data['Born'] = data['Born'].apply(format_Born)"
   ]
  },
  {
   "cell_type": "markdown",
   "metadata": {},
   "source": [
    "#### 3. Formatting HS column"
   ]
  },
  {
   "cell_type": "code",
   "execution_count": 23,
   "metadata": {},
   "outputs": [],
   "source": [
    "# The High scorew column has Runs with '*' symbol which means not out. Hence creating a new column call out/not_nout \n",
    "\n",
    "def out(x):\n",
    "    if '*' in str(x):\n",
    "        return 'Not Out'\n",
    "    else:\n",
    "        return 'Out'\n",
    "data['HS(out/not_out)'] = data['HS'].apply(out)"
   ]
  },
  {
   "cell_type": "code",
   "execution_count": 24,
   "metadata": {},
   "outputs": [],
   "source": [
    "# Converting trhe format from '23*' to '23'\n",
    "\n",
    "def format_hs(x):\n",
    "    if \"*\" in str(x):\n",
    "       x =  str(x).split('*')[0]\n",
    "    return x\n",
    "data['HS'] = data['HS'].apply(format_hs)"
   ]
  },
  {
   "cell_type": "markdown",
   "metadata": {},
   "source": [
    "#### 4. Creating new columns with BBI "
   ]
  },
  {
   "cell_type": "code",
   "execution_count": 25,
   "metadata": {},
   "outputs": [],
   "source": [
    "# creating new wikts and runs columns from BBI columns in the format '3/15'\n",
    "# Column 1\n",
    "\n",
    "def bbi(x):\n",
    "    x = x.split('/')[0]\n",
    "    return int(x)\n",
    "data['BBI_wickets'] = data['BBI'].apply(bbi)\n",
    "\n",
    "# Column 2\n",
    "\n",
    "def bbi2(x):\n",
    "    x = x.split('/')[1]\n",
    "    return int(x)\n",
    "data['BBI_runs'] = data['BBI'].apply(bbi2)"
   ]
  },
  {
   "cell_type": "code",
   "execution_count": 26,
   "metadata": {},
   "outputs": [],
   "source": [
    "#dropping the BBI column\n",
    "\n",
    "data.drop(['BBI'],axis=1,inplace=True)"
   ]
  },
  {
   "cell_type": "markdown",
   "metadata": {},
   "source": [
    "#### 5. Correcting the datatypes"
   ]
  },
  {
   "cell_type": "code",
   "execution_count": 27,
   "metadata": {},
   "outputs": [
    {
     "data": {
      "text/plain": [
       "Name                       object\n",
       "Born               datetime64[ns]\n",
       "Age                         int64\n",
       "Batting Style              object\n",
       "Bowling Style              object\n",
       "Playing Role               object\n",
       "Teams_playing               int64\n",
       "Country                    object\n",
       "Mat                       float64\n",
       "Span                       object\n",
       "Runs                      float64\n",
       "HS                         object\n",
       "Bat Avg                   float64\n",
       "100s                      float64\n",
       "Wkts                      float64\n",
       "Bowl Avg                  float64\n",
       "5w                        float64\n",
       "Catches                   float64\n",
       "Stumping                  float64\n",
       "Avg Diff                  float64\n",
       "Matches_won               float64\n",
       "Matches_lost              float64\n",
       "HS(out/not_out)            object\n",
       "BBI_wickets                 int64\n",
       "BBI_runs                    int64\n",
       "dtype: object"
      ]
     },
     "execution_count": 27,
     "metadata": {},
     "output_type": "execute_result"
    }
   ],
   "source": [
    "data.dtypes"
   ]
  },
  {
   "cell_type": "code",
   "execution_count": 28,
   "metadata": {},
   "outputs": [],
   "source": [
    "# The below columns are in float datatype. Hence converting them to int type\n",
    "\n",
    "float_cols = ['Mat','Runs','HS','100s','Wkts','5w','Catches','Stumping','Matches_won','Matches_lost']\n",
    "for col in float_cols:\n",
    "    data[col] =data[col].astype(int)"
   ]
  },
  {
   "cell_type": "markdown",
   "metadata": {},
   "source": [
    "#### 6. Career Span in years"
   ]
  },
  {
   "cell_type": "code",
   "execution_count": 29,
   "metadata": {},
   "outputs": [],
   "source": [
    "# Creating a new column 'Career span in years and calculating it from Span column. '2007-2024' -> '17'\n",
    "def span(x):\n",
    "    res = x.split('-')\n",
    "    dif = int(res[1])-int(res[0])\n",
    "    return dif\n",
    "data['career_span_yrs'] = data['Span'].apply(span)"
   ]
  },
  {
   "cell_type": "code",
   "execution_count": 30,
   "metadata": {},
   "outputs": [],
   "source": [
    "# Saving the file in csv format for further analysis\n",
    "data.to_csv('cricket.csv')"
   ]
  }
 ],
 "metadata": {
  "kernelspec": {
   "display_name": "Python 3",
   "language": "python",
   "name": "python3"
  },
  "language_info": {
   "codemirror_mode": {
    "name": "ipython",
    "version": 3
   },
   "file_extension": ".py",
   "mimetype": "text/x-python",
   "name": "python",
   "nbconvert_exporter": "python",
   "pygments_lexer": "ipython3",
   "version": "3.10.0"
  }
 },
 "nbformat": 4,
 "nbformat_minor": 2
}
